{
 "cells": [
  {
   "cell_type": "code",
   "execution_count": 2,
   "metadata": {},
   "outputs": [
    {
     "name": "stdout",
     "output_type": "stream",
     "text": [
      "  ___   ____   ____    _    ____\n",
      " / _ \\ / ___| / ___|  / \\  |  _ \\   |  Combining ANTIC, GAP, Polymake, Singular\n",
      "| | | |\\___ \\| |     / _ \\ | |_) |  |  Type \"?Oscar\" for more information\n",
      "| |_| | ___) | |___ / ___ \\|  _ <   |  Manual: https://docs.oscar-system.org\n",
      " \\___/ |____/ \\____/_/   \\_\\_| \\_\\  |  Version 1.2.1\n"
     ]
    }
   ],
   "source": [
    "using Oscar"
   ]
  },
  {
   "cell_type": "code",
   "execution_count": 116,
   "metadata": {},
   "outputs": [
    {
     "name": "stdout",
     "output_type": "stream",
     "text": [
      "Any[0.926, 0.942, 0.943, 0.95, 0.954]"
     ]
    }
   ],
   "source": [
    "PartFullGG=[]\n",
    "k=1000\n",
    "for n in 21:25\n",
    "    #p=1/2\n",
    "    #p=4/n\n",
    "    p=2*log(n)/n\n",
    "    M=matrix_space(QQ,n,n)\n",
    "    count=0\n",
    "    A=M()\n",
    "    for l=1:k\n",
    "        #A=M()\n",
    "        for i=1:n\n",
    "            for j=1:n\n",
    "                if (rand()<p)\n",
    "                    A[i,j]=1\n",
    "                else\n",
    "                    A[i,j]=0\n",
    "                end\n",
    "            end\n",
    "        end\n",
    "        Char=charpoly(A)\n",
    "        if(is_irreducible(Char))\n",
    "            G,C=galois_group(Char)\n",
    "            if(order(G)==factorial(big(n)))\n",
    "                count=count+1;\n",
    "            end\n",
    "        end\n",
    "        #println(A)\n",
    "        #println(order(G))\n",
    "    end\n",
    "    a=count/k\n",
    "    push!(PartFullGG,a)\n",
    "end\n",
    "print(PartFullGG)"
   ]
  },
  {
   "cell_type": "code",
   "execution_count": 115,
   "metadata": {},
   "outputs": [
    {
     "name": "stdout",
     "output_type": "stream",
     "text": [
      "Any[0.242, 0.191, 0.161, 0.19, 0.26, 0.358, 0.457, 0.552, 0.665, 0.714, 0.824, 0.888, 0.92, 0.942, 0.98, 0.984, 0.997, 0.996, 0.995]"
     ]
    }
   ],
   "source": [
    "PartIrred=[]\n",
    "k=1000\n",
    "for n in 2:20\n",
    "    p=1/2\n",
    "    #p=4/n\n",
    "    #p=2*log(n)/n\n",
    "    M=matrix_space(QQ,n,n)\n",
    "    count=0\n",
    "    A=M()\n",
    "    for l=1:k\n",
    "        for i=1:n\n",
    "            for j=i:n\n",
    "                if (rand()<p)\n",
    "                    A[i,j]=1\n",
    "                    A[j,i]=1\n",
    "                else\n",
    "                    A[i,j]=0\n",
    "                    A[j,i]=0\n",
    "                end\n",
    "            end\n",
    "        end\n",
    "        Char=charpoly(A)\n",
    "        if(is_irreducible(Char))\n",
    "            count=count+1\n",
    "        end\n",
    "        #println(A)\n",
    "        #println(order(G))\n",
    "    end\n",
    "    a=count/k\n",
    "    push!(PartIrred,a)\n",
    "end\n",
    "print(PartIrred)"
   ]
  }
 ],
 "metadata": {
  "kernelspec": {
   "display_name": "Julia 1.11.1",
   "language": "julia",
   "name": "julia-1.11"
  },
  "language_info": {
   "file_extension": ".jl",
   "mimetype": "application/julia",
   "name": "julia",
   "version": "1.11.1"
  }
 },
 "nbformat": 4,
 "nbformat_minor": 4
}
